{
 "cells": [
  {
   "cell_type": "markdown",
   "id": "7117afa0",
   "metadata": {},
   "source": [
    "# Assignment 5 \n",
    "## Jacklyn Tellez\n",
    "### CS 150-01"
   ]
  },
  {
   "cell_type": "markdown",
   "id": "e334fa9e",
   "metadata": {},
   "source": [
    "#### Language Translator"
   ]
  },
  {
   "cell_type": "code",
   "execution_count": 18,
   "id": "4fee087a",
   "metadata": {},
   "outputs": [
    {
     "name": "stdout",
     "output_type": "stream",
     "text": [
      "{'cat': 'gato', 'dog': 'perro', 'fish': 'pez', 'mother': 'madre', 'father': 'padre', 'cousin': 'primo', 'aunt': 'tia', 'uncle': 'tio', 'grandmother': 'abuela', 'grandfather': 'abuelo', 'shirt': 'camisa', 'pants': 'pantalones', 'shorts': 'bermudas', 'shoe': 'zapato', 'water': 'agua', 'pink': 'rosado', 'red': 'rojo', 'purple': 'morado', 'yellow': 'amarillo', 'orange': 'anaranjado'}\n"
     ]
    }
   ],
   "source": [
    "language={\"cat\":\"gato\", \n",
    "          \"dog\":\"perro\", \n",
    "          \"fish\":\"pez\",\n",
    "          \"mother\":\"madre\", \n",
    "          \"father\":\"padre\", \n",
    "          \"cousin\":\"primo\", \n",
    "          \"aunt\":\"tia\", \n",
    "          \"uncle\":\"tio\", \n",
    "          \"grandmother\":\"abuela\", \n",
    "          \"grandfather\":\"abuelo\", \n",
    "          \"shirt\":\"camisa\", \n",
    "          \"pants\":\"pantalones\", \n",
    "          \"shorts\":\"bermudas\", \n",
    "          \"shoe\":\"zapato\", \n",
    "          \"water\":\"agua\", \n",
    "          \"pink\":\"rosado\", \n",
    "          \"red\":\"rojo\", \n",
    "          \"purple\":\"morado\", \n",
    "          \"yellow\":\"amarillo\", \n",
    "          \"orange\":\"anaranjado\"}\n",
    "print(language)"
   ]
  },
  {
   "cell_type": "code",
   "execution_count": 47,
   "id": "b808829f",
   "metadata": {},
   "outputs": [
    {
     "name": "stdout",
     "output_type": "stream",
     "text": [
      "Enter a word to translate from English to Spanish (enter 0 to stop): shoe\n",
      "zapato\n",
      "Enter a word to translate from English to Spanish (enter 0 to stop): red\n",
      "rojo\n",
      "Enter a word to translate from English to Spanish (enter 0 to stop): exit\n"
     ]
    }
   ],
   "source": [
    "key1=input(\"Enter a word to translate from English to Spanish (enter 0 to stop): \")\n",
    "while True:\n",
    "    if key1 == \"exit\":\n",
    "        break  \n",
    "    else:\n",
    "        print(language[key1])\n",
    "        key1=input(\"Enter a word to translate from English to Spanish (enter 0 to stop): \")"
   ]
  },
  {
   "cell_type": "code",
   "execution_count": null,
   "id": "2231af4f",
   "metadata": {},
   "outputs": [],
   "source": []
  },
  {
   "cell_type": "markdown",
   "id": "be716dfa",
   "metadata": {},
   "source": [
    "#### Tempature Converter"
   ]
  },
  {
   "cell_type": "code",
   "execution_count": null,
   "id": "65051b3b",
   "metadata": {},
   "outputs": [],
   "source": [
    "weather_sept={1:82, \n",
    "              2:81, \n",
    "              3:81, \n",
    "              4:81, \n",
    "              5:77, \n",
    "              6:84, \n",
    "              7:84, \n",
    "              8:79, \n",
    "              9:77, \n",
    "              10:79, \n",
    "              11:82, \n",
    "              12:86, \n",
    "              13:88, \n",
    "              14:86, \n",
    "              15:79, \n",
    "              16:81, \n",
    "              17:86, \n",
    "              18:86, \n",
    "              19:84, \n",
    "              20:75, \n",
    "              21:77, \n",
    "              22:61, \n",
    "              23:68, \n",
    "              24:73, \n",
    "              25:70, \n",
    "              26:75, \n",
    "              27:82, \n",
    "              28:84, \n",
    "              29:86, \n",
    "              30:82}"
   ]
  },
  {
   "cell_type": "code",
   "execution_count": 20,
   "id": "60fc8019",
   "metadata": {},
   "outputs": [
    {
     "name": "stdout",
     "output_type": "stream",
     "text": [
      "[1, 2, 3, 4, 5, 6, 7, 8, 9, 10, 11, 12, 13, 14, 15, 16, 17, 18, 19, 20, 21, 22, 23, 24, 25, 26, 27, 28, 29, 30]\n",
      "[82, 81, 81, 81, 77, 84, 84, 79, 77, 79, 82, 86, 88, 86, 79, 81, 86, 86, 84, 75, 77, 61, 68, 73, 70, 75, 82, 84, 86, 82]\n"
     ]
    }
   ],
   "source": [
    "day=list(weather_sept.keys())\n",
    "temp=list(weather_sept.values())\n",
    "print(day)\n",
    "print(temp) "
   ]
  },
  {
   "cell_type": "code",
   "execution_count": 23,
   "id": "ac7ba11a",
   "metadata": {},
   "outputs": [
    {
     "name": "stdout",
     "output_type": "stream",
     "text": [
      "27.77777777777778\n",
      "27.22222222222222\n",
      "27.22222222222222\n",
      "27.22222222222222\n",
      "25.0\n",
      "28.88888888888889\n",
      "28.88888888888889\n",
      "26.11111111111111\n",
      "25.0\n",
      "26.11111111111111\n",
      "27.77777777777778\n",
      "30.0\n",
      "31.11111111111111\n",
      "30.0\n",
      "26.11111111111111\n",
      "27.22222222222222\n",
      "30.0\n",
      "30.0\n",
      "28.88888888888889\n",
      "23.88888888888889\n",
      "25.0\n",
      "16.11111111111111\n",
      "20.0\n",
      "22.77777777777778\n",
      "21.11111111111111\n",
      "23.88888888888889\n",
      "27.77777777777778\n",
      "28.88888888888889\n",
      "30.0\n",
      "27.77777777777778\n"
     ]
    }
   ],
   "source": [
    "for i in temp: \n",
    "    print((i-32)*5/9)"
   ]
  },
  {
   "cell_type": "code",
   "execution_count": 16,
   "id": "ccca6b30",
   "metadata": {},
   "outputs": [
    {
     "name": "stdout",
     "output_type": "stream",
     "text": [
      "the maximum temp is 88\n",
      "the minimum temp is 61\n"
     ]
    }
   ],
   "source": [
    "print(\"the maximum temp is\", max(temp))\n",
    "print(\"the minimum temp is\", min(temp))"
   ]
  },
  {
   "cell_type": "markdown",
   "id": "e3fa52ed",
   "metadata": {},
   "source": [
    "#### Problem C"
   ]
  },
  {
   "cell_type": "code",
   "execution_count": 35,
   "id": "1fa98f25",
   "metadata": {},
   "outputs": [
    {
     "name": "stdout",
     "output_type": "stream",
     "text": [
      "{0, 6, 12, 18, 24}\n",
      "{0, 3, 6, 9, 12, 15, 18, 21, 24, 27}\n"
     ]
    }
   ],
   "source": [
    "setA=set([i for i in range(0,30,6)])\n",
    "print(setA)\n",
    "setB=set([i for i in range(0,30,3)])\n",
    "print(setB)"
   ]
  },
  {
   "cell_type": "code",
   "execution_count": 36,
   "id": "f3063c32",
   "metadata": {},
   "outputs": [
    {
     "data": {
      "text/plain": [
       "{3, 9, 15, 21, 27}"
      ]
     },
     "execution_count": 36,
     "metadata": {},
     "output_type": "execute_result"
    }
   ],
   "source": [
    "#symmetric difference (^)\n",
    "#elements of both sets that are not in common with each other\n",
    "setA^setB"
   ]
  },
  {
   "cell_type": "code",
   "execution_count": 37,
   "id": "6dfa75b3",
   "metadata": {},
   "outputs": [
    {
     "name": "stdout",
     "output_type": "stream",
     "text": [
      "False\n",
      "False\n"
     ]
    }
   ],
   "source": [
    "#.isdisjoint()\n",
    "#Return True if no items in set A is present in set B\n",
    "print(setA.isdisjoint(setB))\n",
    "print(setB.isdisjoint(setA))"
   ]
  },
  {
   "cell_type": "code",
   "execution_count": 38,
   "id": "3b3833c7",
   "metadata": {},
   "outputs": [
    {
     "data": {
      "text/plain": [
       "{0, 6, 12, 18, 24}"
      ]
     },
     "execution_count": 38,
     "metadata": {},
     "output_type": "execute_result"
    }
   ],
   "source": [
    "#intersection_update(&=)\n",
    "#method removes the items that is not present in both sets\n",
    "setA &= setB\n",
    "setA"
   ]
  },
  {
   "cell_type": "code",
   "execution_count": 39,
   "id": "54a3e17b",
   "metadata": {},
   "outputs": [
    {
     "data": {
      "text/plain": [
       "{3, 9, 15, 21, 27}"
      ]
     },
     "execution_count": 39,
     "metadata": {},
     "output_type": "execute_result"
    }
   ],
   "source": [
    "#symmtric_difference(^=)\n",
    "#method returns a set that contains all items from both set, but not the items that are present in both sets\n",
    "setA^=setB\n",
    "setA"
   ]
  },
  {
   "cell_type": "code",
   "execution_count": 40,
   "id": "1a0ca1d8",
   "metadata": {},
   "outputs": [
    {
     "data": {
      "text/plain": [
       "{0, 3, 6, 12, 15, 18, 21, 24, 27}"
      ]
     },
     "execution_count": 40,
     "metadata": {},
     "output_type": "execute_result"
    }
   ],
   "source": [
    "#remove(), discard(), pop()\n",
    "#remove/discard-will take out an element, works the same, except discard will not generate an error.\n",
    "#pop-get random element - this removes the element from the set\n",
    "setB.remove(9)\n",
    "setB"
   ]
  },
  {
   "cell_type": "code",
   "execution_count": 41,
   "id": "3e5405da",
   "metadata": {},
   "outputs": [
    {
     "data": {
      "text/plain": [
       "{0, 3, 6, 12, 15, 18, 21, 24, 27}"
      ]
     },
     "execution_count": 41,
     "metadata": {},
     "output_type": "execute_result"
    }
   ],
   "source": [
    "setB.discard(20)\n",
    "setB"
   ]
  },
  {
   "cell_type": "code",
   "execution_count": 42,
   "id": "94af144e",
   "metadata": {},
   "outputs": [
    {
     "data": {
      "text/plain": [
       "{3, 6, 12, 15, 18, 21, 24, 27}"
      ]
     },
     "execution_count": 42,
     "metadata": {},
     "output_type": "execute_result"
    }
   ],
   "source": [
    "setB.pop()\n",
    "setB"
   ]
  },
  {
   "cell_type": "code",
   "execution_count": null,
   "id": "6ae8932e",
   "metadata": {},
   "outputs": [],
   "source": []
  }
 ],
 "metadata": {
  "kernelspec": {
   "display_name": "Python 3",
   "language": "python",
   "name": "python3"
  },
  "language_info": {
   "codemirror_mode": {
    "name": "ipython",
    "version": 3
   },
   "file_extension": ".py",
   "mimetype": "text/x-python",
   "name": "python",
   "nbconvert_exporter": "python",
   "pygments_lexer": "ipython3",
   "version": "3.8.8"
  }
 },
 "nbformat": 4,
 "nbformat_minor": 5
}
